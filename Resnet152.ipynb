{
  "nbformat": 4,
  "nbformat_minor": 0,
  "metadata": {
    "colab": {
      "provenance": [],
      "gpuType": "T4"
    },
    "kernelspec": {
      "name": "python3",
      "display_name": "Python 3"
    },
    "language_info": {
      "name": "python"
    },
    "gpuClass": "standard",
    "accelerator": "GPU"
  },
  "cells": [
    {
      "cell_type": "code",
      "execution_count": 1,
      "metadata": {
        "id": "CTg3Nf-HFySM"
      },
      "outputs": [],
      "source": [
        "import tensorflow as tf\n",
        "from tensorflow.keras.datasets import cifar10\n",
        "from tensorflow.keras.applications.resnet import ResNet152\n",
        "from tensorflow.keras.layers import Dense, Flatten\n",
        "from tensorflow.keras.models import Model\n",
        "from tensorflow.keras.applications.resnet import preprocess_input"
      ]
    },
    {
      "cell_type": "code",
      "source": [
        "# Load CIFAR-10 dataset\n",
        "(x_train, y_train), (x_test, y_test) = cifar10.load_data()"
      ],
      "metadata": {
        "colab": {
          "base_uri": "https://localhost:8080/"
        },
        "id": "0a2YMa9xGbeL",
        "outputId": "747b41a4-f094-4e27-a24d-599d6d958333"
      },
      "execution_count": 2,
      "outputs": [
        {
          "output_type": "stream",
          "name": "stdout",
          "text": [
            "Downloading data from https://www.cs.toronto.edu/~kriz/cifar-10-python.tar.gz\n",
            "170498071/170498071 [==============================] - 3s 0us/step\n"
          ]
        }
      ]
    },
    {
      "cell_type": "code",
      "source": [
        "# Preprocess the input data\n",
        "x_train = preprocess_input(x_train)\n",
        "x_test = preprocess_input(x_test)\n"
      ],
      "metadata": {
        "id": "kez0z7JqGdSi"
      },
      "execution_count": 3,
      "outputs": []
    },
    {
      "cell_type": "code",
      "source": [
        "base_model = ResNet152(include_top=False, weights='imagenet', input_shape=(32, 32, 3))"
      ],
      "metadata": {
        "colab": {
          "base_uri": "https://localhost:8080/"
        },
        "id": "RDs6xcw8GfH7",
        "outputId": "4d7d5b34-b3d3-4d1e-9325-f456c5b8d799"
      },
      "execution_count": 4,
      "outputs": [
        {
          "output_type": "stream",
          "name": "stdout",
          "text": [
            "Downloading data from https://storage.googleapis.com/tensorflow/keras-applications/resnet/resnet152_weights_tf_dim_ordering_tf_kernels_notop.h5\n",
            "234698864/234698864 [==============================] - 2s 0us/step\n"
          ]
        }
      ]
    },
    {
      "cell_type": "code",
      "source": [
        "# Add some dense layers on top of the ResNet152 model\n",
        "x = base_model.output\n",
        "x = Flatten()(x)\n",
        "x = Dense(1024, activation='relu')(x)\n",
        "x = Dense(512, activation='relu')(x)\n",
        "x = Dense(10, activation='softmax')(x)"
      ],
      "metadata": {
        "id": "re-hNJ6SGhK9"
      },
      "execution_count": 5,
      "outputs": []
    },
    {
      "cell_type": "code",
      "source": [
        "# Define the model\n",
        "model = Model(inputs=base_model.input, outputs=x)\n"
      ],
      "metadata": {
        "id": "xI0CbdCRJOxW"
      },
      "execution_count": 6,
      "outputs": []
    },
    {
      "cell_type": "code",
      "source": [
        "# Freeze the pre-trained layers\n",
        "for layer in base_model.layers:\n",
        "    layer.trainable = False"
      ],
      "metadata": {
        "id": "ln9IAHf9JT0W"
      },
      "execution_count": 7,
      "outputs": []
    },
    {
      "cell_type": "code",
      "source": [],
      "metadata": {
        "id": "h1CwAjg13uL8"
      },
      "execution_count": null,
      "outputs": []
    },
    {
      "cell_type": "code",
      "source": [
        "# Compile the model\n",
        "model.compile(optimizer='adam', loss='sparse_categorical_crossentropy', metrics=['accuracy'])\n"
      ],
      "metadata": {
        "id": "GCQ1gKD1GksO"
      },
      "execution_count": 8,
      "outputs": []
    },
    {
      "cell_type": "code",
      "source": [
        "# Train the model\n",
        "model.fit(x_train, y_train, batch_size=128, epochs=10, validation_data=(x_test, y_test))"
      ],
      "metadata": {
        "colab": {
          "base_uri": "https://localhost:8080/"
        },
        "id": "1b15ZuWCJbdy",
        "outputId": "3a04a438-be2e-4751-ba5b-607dfa28d16d"
      },
      "execution_count": 9,
      "outputs": [
        {
          "output_type": "stream",
          "name": "stdout",
          "text": [
            "Epoch 1/10\n",
            "391/391 [==============================] - 43s 62ms/step - loss: 1.2415 - accuracy: 0.5998 - val_loss: 1.0377 - val_accuracy: 0.6357\n",
            "Epoch 2/10\n",
            "391/391 [==============================] - 21s 55ms/step - loss: 0.8910 - accuracy: 0.6844 - val_loss: 1.0071 - val_accuracy: 0.6561\n",
            "Epoch 3/10\n",
            "391/391 [==============================] - 21s 54ms/step - loss: 0.7576 - accuracy: 0.7302 - val_loss: 1.0030 - val_accuracy: 0.6644\n",
            "Epoch 4/10\n",
            "391/391 [==============================] - 19s 49ms/step - loss: 0.6403 - accuracy: 0.7690 - val_loss: 1.0688 - val_accuracy: 0.6565\n",
            "Epoch 5/10\n",
            "391/391 [==============================] - 19s 48ms/step - loss: 0.5173 - accuracy: 0.8149 - val_loss: 1.1339 - val_accuracy: 0.6618\n",
            "Epoch 6/10\n",
            "391/391 [==============================] - 21s 54ms/step - loss: 0.4173 - accuracy: 0.8499 - val_loss: 1.2471 - val_accuracy: 0.6519\n",
            "Epoch 7/10\n",
            "391/391 [==============================] - 21s 55ms/step - loss: 0.3340 - accuracy: 0.8788 - val_loss: 1.4245 - val_accuracy: 0.6437\n",
            "Epoch 8/10\n",
            "391/391 [==============================] - 19s 48ms/step - loss: 0.2602 - accuracy: 0.9071 - val_loss: 1.6108 - val_accuracy: 0.6470\n",
            "Epoch 9/10\n",
            "391/391 [==============================] - 19s 49ms/step - loss: 0.2148 - accuracy: 0.9244 - val_loss: 1.7019 - val_accuracy: 0.6491\n",
            "Epoch 10/10\n",
            "391/391 [==============================] - 21s 54ms/step - loss: 0.1793 - accuracy: 0.9356 - val_loss: 1.8541 - val_accuracy: 0.6504\n"
          ]
        },
        {
          "output_type": "execute_result",
          "data": {
            "text/plain": [
              "<keras.callbacks.History at 0x7f3b5c143d60>"
            ]
          },
          "metadata": {},
          "execution_count": 9
        }
      ]
    },
    {
      "cell_type": "code",
      "source": [
        "# Fine-tune the model by unfreezing some of the top layers\n",
        "for layer in model.layers[:141]:\n",
        "    layer.trainable = False\n",
        "for layer in model.layers[141:]:\n",
        "    layer.trainable = True"
      ],
      "metadata": {
        "id": "1rFZJPYtJqU8"
      },
      "execution_count": 10,
      "outputs": []
    },
    {
      "cell_type": "code",
      "source": [
        "# Compile the model again with a lower learning rate\n",
        "model.compile(optimizer=tf.keras.optimizers.Adam(learning_rate=1e-5), loss='sparse_categorical_crossentropy', metrics=['accuracy'])"
      ],
      "metadata": {
        "id": "8dYX5l6EkY77"
      },
      "execution_count": 12,
      "outputs": []
    },
    {
      "cell_type": "code",
      "source": [
        "# Train the model again with a lower learning rate\n",
        "history = model.fit(x_train, y_train, batch_size=128, epochs=10, validation_data=(x_test, y_test))"
      ],
      "metadata": {
        "colab": {
          "base_uri": "https://localhost:8080/"
        },
        "id": "b129rEETkhsf",
        "outputId": "379ea42f-3831-4d1d-ea75-ce6d33cf612a"
      },
      "execution_count": 14,
      "outputs": [
        {
          "output_type": "stream",
          "name": "stdout",
          "text": [
            "Epoch 1/10\n",
            "391/391 [==============================] - 54s 137ms/step - loss: 0.6150 - accuracy: 0.7822 - val_loss: 4.5410 - val_accuracy: 0.6131\n",
            "Epoch 2/10\n",
            "391/391 [==============================] - 50s 128ms/step - loss: 0.4622 - accuracy: 0.8385 - val_loss: 6.0931 - val_accuracy: 0.6265\n",
            "Epoch 3/10\n",
            "391/391 [==============================] - 50s 127ms/step - loss: 0.3432 - accuracy: 0.8839 - val_loss: 5.9402 - val_accuracy: 0.6363\n",
            "Epoch 4/10\n",
            "391/391 [==============================] - 49s 126ms/step - loss: 0.2636 - accuracy: 0.9134 - val_loss: 4.5944 - val_accuracy: 0.6455\n",
            "Epoch 5/10\n",
            "391/391 [==============================] - 49s 126ms/step - loss: 0.2034 - accuracy: 0.9361 - val_loss: 5.8742 - val_accuracy: 0.6501\n",
            "Epoch 6/10\n",
            "391/391 [==============================] - 51s 131ms/step - loss: 0.1639 - accuracy: 0.9519 - val_loss: 5.3884 - val_accuracy: 0.6575\n",
            "Epoch 7/10\n",
            "391/391 [==============================] - 52s 132ms/step - loss: 0.1391 - accuracy: 0.9586 - val_loss: 12.5707 - val_accuracy: 0.6609\n",
            "Epoch 8/10\n",
            "391/391 [==============================] - 51s 131ms/step - loss: 0.1055 - accuracy: 0.9697 - val_loss: 6.4234 - val_accuracy: 0.6669\n",
            "Epoch 9/10\n",
            "391/391 [==============================] - 52s 132ms/step - loss: 0.0880 - accuracy: 0.9751 - val_loss: 7.7190 - val_accuracy: 0.6694\n",
            "Epoch 10/10\n",
            "391/391 [==============================] - 49s 126ms/step - loss: 0.0743 - accuracy: 0.9801 - val_loss: 6.0628 - val_accuracy: 0.6736\n"
          ]
        }
      ]
    },
    {
      "cell_type": "code",
      "source": [
        "score = model.evaluate(x_test, y_test, verbose=0)\n",
        "print(\"Test loss:\", score[0])\n",
        "print(\"Test accuracy:\", score[1])"
      ],
      "metadata": {
        "colab": {
          "base_uri": "https://localhost:8080/"
        },
        "id": "5qlSaDiYl9XB",
        "outputId": "2ac348e1-a45b-429c-baa6-4ac910942c5a"
      },
      "execution_count": 15,
      "outputs": [
        {
          "output_type": "stream",
          "name": "stdout",
          "text": [
            "Test loss: 6.062779426574707\n",
            "Test accuracy: 0.6736000180244446\n"
          ]
        }
      ]
    },
    {
      "cell_type": "code",
      "source": [
        "import matplotlib.pyplot as plt\n",
        "print(history.history.keys())\n",
        "# summarize history for accuracy\n",
        "plt.plot(history.history['accuracy'])\n",
        "plt.plot(history.history['val_accuracy'])\n",
        "plt.title('model accuracy')\n",
        "plt.ylabel('accuracy')\n",
        "plt.xlabel('epoch')\n",
        "plt.legend(['train', 'test'], loc='upper left')\n",
        "plt.show()\n",
        "# summarize history for loss\n",
        "plt.plot(history.history['loss'])\n",
        "plt.plot(history.history['val_loss'])\n",
        "plt.title('model loss ')\n",
        "plt.ylabel('loss')\n",
        "plt.xlabel('epoch')\n",
        "plt.legend(['train', 'test'], loc='upper left')\n",
        "plt.show()"
      ],
      "metadata": {
        "colab": {
          "base_uri": "https://localhost:8080/",
          "height": 944
        },
        "id": "OrXCMWjSmlWg",
        "outputId": "0b1e0236-62af-4d91-caaa-71fc2447b9f4"
      },
      "execution_count": 16,
      "outputs": [
        {
          "output_type": "stream",
          "name": "stdout",
          "text": [
            "dict_keys(['loss', 'accuracy', 'val_loss', 'val_accuracy'])\n"
          ]
        },
        {
          "output_type": "display_data",
          "data": {
            "text/plain": [
              "<Figure size 640x480 with 1 Axes>"
            ],
            "image/png": "[encoded data removed]"
          },
          "metadata": {}
        },
        {
          "output_type": "display_data",
          "data": {
            "text/plain": [
              "<Figure size 640x480 with 1 Axes>"
            ],
            "image/png": "[encoded data removed]"
          },
          "metadata": {}
        }
      ]
    },
    {
      "cell_type": "code",
      "source": [
        "# Load the CIFAR-100 dataset\n",
        "from tensorflow.keras.datasets import cifar100\n",
        "(x_train, y_train), (x_test, y_test) = cifar100.load_data(label_mode='fine')"
      ],
      "metadata": {
        "id": "aFsMKBoymzBR"
      },
      "execution_count": 30,
      "outputs": []
    },
    {
      "cell_type": "code",
      "source": [
        "# Preprocess the input data\n",
        "x_train = preprocess_input(x_train)\n",
        "x_test = preprocess_input(x_test)"
      ],
      "metadata": {
        "id": "U2lyxVL7xoh1"
      },
      "execution_count": 31,
      "outputs": []
    },
    {
      "cell_type": "code",
      "source": [
        "base_model = ResNet152(include_top=False, weights='imagenet', input_shape=(32, 32, 3))"
      ],
      "metadata": {
        "id": "UyMFW9SM18Or"
      },
      "execution_count": 32,
      "outputs": []
    },
    {
      "cell_type": "code",
      "source": [
        "# Freeze the pre-trained layers\n",
        "for layer in base_model.layers:\n",
        "    layer.trainable = False"
      ],
      "metadata": {
        "id": "yhk5a1Lr2Fkw"
      },
      "execution_count": 33,
      "outputs": []
    },
    {
      "cell_type": "code",
      "source": [
        "# Add a global average pooling layer and a dense output layer\n",
        "x = tf.keras.layers.GlobalAveragePooling2D()(base_model.output)\n",
        "x = tf.keras.layers.Dense(1024, activation='relu')(x)\n",
        "x = tf.keras.layers.Dense(512, activation='relu')(x)\n",
        "x = tf.keras.layers.Dense(100, activation='softmax')(x)"
      ],
      "metadata": {
        "id": "Rp7NaYrJ2JUd"
      },
      "execution_count": 34,
      "outputs": []
    },
    {
      "cell_type": "code",
      "source": [
        "# Define the model\n",
        "model = tf.keras.models.Model(inputs=base_model.input, outputs=x)"
      ],
      "metadata": {
        "id": "g0kmPjbK3vlL"
      },
      "execution_count": 45,
      "outputs": []
    },
    {
      "cell_type": "code",
      "source": [],
      "metadata": {
        "id": "m_NuqBxS3zAL"
      },
      "execution_count": 36,
      "outputs": []
    },
    {
      "cell_type": "code",
      "source": [
        "# Fine-tune the top layers\n",
        "for layer in model.layers[-3:]:\n",
        "    layer.trainable = True"
      ],
      "metadata": {
        "id": "8THQy-HT32KM"
      },
      "execution_count": 44,
      "outputs": []
    },
    {
      "cell_type": "code",
      "source": [
        "# Compile the model\n",
        "model.compile(optimizer=tf.keras.optimizers.Adam(learning_rate=1e-5), loss='sparse_categorical_crossentropy', metrics=['accuracy'])"
      ],
      "metadata": {
        "id": "RyNuG1hGD8qC"
      },
      "execution_count": 46,
      "outputs": []
    },
    {
      "cell_type": "code",
      "source": [
        "# Train the model\n",
        "history=model.fit(x_train, y_train, batch_size=128, epochs=10, validation_data=(x_test, y_test))"
      ],
      "metadata": {
        "colab": {
          "base_uri": "https://localhost:8080/"
        },
        "id": "J08JXASA36Yf",
        "outputId": "5bfdbcdf-d33a-463a-b029-762c01ab6b40"
      },
      "execution_count": 47,
      "outputs": [
        {
          "output_type": "stream",
          "name": "stdout",
          "text": [
            "Epoch 1/10\n",
            "391/391 [==============================] - 35s 64ms/step - loss: 0.1388 - accuracy: 0.9586 - val_loss: 6.9154 - val_accuracy: 0.3877\n",
            "Epoch 2/10\n",
            "391/391 [==============================] - 22s 55ms/step - loss: 0.0838 - accuracy: 0.9744 - val_loss: 6.8538 - val_accuracy: 0.3893\n",
            "Epoch 3/10\n",
            "391/391 [==============================] - 20s 51ms/step - loss: 0.0561 - accuracy: 0.9835 - val_loss: 6.8286 - val_accuracy: 0.3924\n",
            "Epoch 4/10\n",
            "391/391 [==============================] - 19s 50ms/step - loss: 0.0391 - accuracy: 0.9898 - val_loss: 6.8214 - val_accuracy: 0.3932\n",
            "Epoch 5/10\n",
            "391/391 [==============================] - 19s 49ms/step - loss: 0.0279 - accuracy: 0.9937 - val_loss: 6.8238 - val_accuracy: 0.3939\n",
            "Epoch 6/10\n",
            "391/391 [==============================] - 22s 55ms/step - loss: 0.0205 - accuracy: 0.9964 - val_loss: 6.8309 - val_accuracy: 0.3943\n",
            "Epoch 7/10\n",
            "391/391 [==============================] - 22s 56ms/step - loss: 0.0155 - accuracy: 0.9976 - val_loss: 6.8437 - val_accuracy: 0.3953\n",
            "Epoch 8/10\n",
            "391/391 [==============================] - 22s 56ms/step - loss: 0.0120 - accuracy: 0.9987 - val_loss: 6.8587 - val_accuracy: 0.3957\n",
            "Epoch 9/10\n",
            "391/391 [==============================] - 20s 50ms/step - loss: 0.0096 - accuracy: 0.9992 - val_loss: 6.8755 - val_accuracy: 0.3965\n",
            "Epoch 10/10\n",
            "391/391 [==============================] - 20s 50ms/step - loss: 0.0078 - accuracy: 0.9996 - val_loss: 6.8951 - val_accuracy: 0.3973\n"
          ]
        }
      ]
    },
    {
      "cell_type": "code",
      "source": [
        "score = model.evaluate(x_test, y_test, verbose=0)\n",
        "print(\"Test loss:\", score[0])\n",
        "print(\"Test accuracy:\", score[1])"
      ],
      "metadata": {
        "colab": {
          "base_uri": "https://localhost:8080/"
        },
        "id": "iH2J5miw5hmL",
        "outputId": "0897559c-4df6-4eb2-9969-09e3c1356dcb"
      },
      "execution_count": 48,
      "outputs": [
        {
          "output_type": "stream",
          "name": "stdout",
          "text": [
            "Test loss: 6.895117282867432\n",
            "Test accuracy: 0.39730000495910645\n"
          ]
        }
      ]
    },
    {
      "cell_type": "code",
      "source": [
        "import matplotlib.pyplot as plt\n",
        "print(history.history.keys())\n",
        "# summarize history for accuracy\n",
        "plt.plot(history.history['accuracy'])\n",
        "plt.plot(history.history['val_accuracy'])\n",
        "plt.title('model accuracy')\n",
        "plt.ylabel('accuracy')\n",
        "plt.xlabel('epoch')\n",
        "plt.legend(['train', 'test'], loc='upper left')\n",
        "plt.show()\n",
        "# summarize history for loss\n",
        "plt.plot(history.history['loss'])\n",
        "plt.plot(history.history['val_loss'])\n",
        "plt.title('model loss ')\n",
        "plt.ylabel('loss')\n",
        "plt.xlabel('epoch')\n",
        "plt.legend(['train', 'test'], loc='upper left')\n",
        "plt.show()"
      ],
      "metadata": {
        "colab": {
          "base_uri": "https://localhost:8080/",
          "height": 944
        },
        "id": "XFsaRt6R5liI",
        "outputId": "0efe22d0-b8ff-4ee2-fa62-b90d3380185e"
      },
      "execution_count": 49,
      "outputs": [
        {
          "output_type": "stream",
          "name": "stdout",
          "text": [
            "dict_keys(['loss', 'accuracy', 'val_loss', 'val_accuracy'])\n"
          ]
        },
        {
          "output_type": "display_data",
          "data": {
            "text/plain": [
              "<Figure size 640x480 with 1 Axes>"
            ],
            "image/png": "[encoded data removed]"
          },
          "metadata": {}
        },
        {
          "output_type": "display_data",
          "data": {
            "text/plain": [
              "<Figure size 640x480 with 1 Axes>"
            ],
            "image/png": "[encoded data removed]"
          },
          "metadata": {}
        }
      ]
    },
    {
      "cell_type": "code",
      "source": [],
      "metadata": {
        "id": "Ka4HtlXO5luA"
      },
      "execution_count": null,
      "outputs": []
    }
  ]
}