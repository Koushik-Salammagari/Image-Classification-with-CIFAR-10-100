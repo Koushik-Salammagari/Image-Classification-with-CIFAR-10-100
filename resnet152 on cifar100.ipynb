{
  "nbformat": 4,
  "nbformat_minor": 0,
  "metadata": {
    "colab": {
      "provenance": []
    },
    "kernelspec": {
      "name": "python3",
      "display_name": "Python 3"
    },
    "language_info": {
      "name": "python"
    },
    "accelerator": "GPU",
    "gpuClass": "standard"
  },
  "cells": [
    {
      "cell_type": "code",
      "execution_count": 1,
      "metadata": {
        "id": "QfGazhCWHDin"
      },
      "outputs": [],
      "source": [
        "import tensorflow as tf\n",
        "from tensorflow.keras.datasets import cifar10\n",
        "#from tensorflow.keras.applications.vgg16 import VGG16\n",
        "from tensorflow.keras.models import Sequential\n",
        "from tensorflow.keras.layers import Dense, Flatten, Dropout\n",
        "from sklearn.metrics import accuracy_score\n",
        "import numpy as np\n",
        "from tensorflow.keras.datasets import cifar10\n",
        "from tensorflow.keras.applications.resnet import ResNet152\n",
        "#from tensorflow.\n",
        "from tensorflow.keras.models import Model\n",
        "from tensorflow.keras.applications.resnet import preprocess_input\n"
      ]
    },
    {
      "cell_type": "code",
      "source": [
        "# Load the CIFAR-100 dataset\n",
        "from tensorflow.keras.datasets import cifar100\n",
        "(x_train, y_train), (x_test, y_test) = cifar100.load_data(label_mode='fine')"
      ],
      "metadata": {
        "id": "h83ZsSFjHtXY",
        "colab": {
          "base_uri": "https://localhost:8080/"
        },
        "outputId": "2ed694d6-5fa9-47b9-f1ab-b2e46002dc53"
      },
      "execution_count": 2,
      "outputs": [
        {
          "output_type": "stream",
          "name": "stdout",
          "text": [
            "Downloading data from https://www.cs.toronto.edu/~kriz/cifar-100-python.tar.gz\n",
            "169001437/169001437 [==============================] - 13s 0us/step\n"
          ]
        }
      ]
    },
    {
      "cell_type": "code",
      "source": [
        "# Preprocess the input data\n",
        "x_train = preprocess_input(x_train)\n",
        "x_test = preprocess_input(x_test)"
      ],
      "metadata": {
        "id": "7ZUzsJbQXm-5"
      },
      "execution_count": 3,
      "outputs": []
    },
    {
      "cell_type": "code",
      "source": [
        "x_train = x_train / 255.0\n",
        "x_test = x_test / 255.0"
      ],
      "metadata": {
        "id": "i3k3o-9gHtdA"
      },
      "execution_count": 4,
      "outputs": []
    },
    {
      "cell_type": "code",
      "source": [
        "base_model = ResNet152(include_top=False, weights='imagenet', input_shape=(32, 32, 3))"
      ],
      "metadata": {
        "colab": {
          "base_uri": "https://localhost:8080/"
        },
        "id": "_iPZcQ_DXnCR",
        "outputId": "a91ed13b-361b-4403-c21d-2ecff730b9c7"
      },
      "execution_count": 5,
      "outputs": [
        {
          "output_type": "stream",
          "name": "stdout",
          "text": [
            "Downloading data from https://storage.googleapis.com/tensorflow/keras-applications/resnet/resnet152_weights_tf_dim_ordering_tf_kernels_notop.h5\n",
            "234698864/234698864 [==============================] - 11s 0us/step\n"
          ]
        }
      ]
    },
    {
      "cell_type": "code",
      "source": [
        "# Freeze the pre-trained layers\n",
        "for layer in base_model.layers:\n",
        "    layer.trainable = False"
      ],
      "metadata": {
        "id": "5eUX1YSsHtkK"
      },
      "execution_count": 6,
      "outputs": []
    },
    {
      "cell_type": "code",
      "source": [
        "# Add a global average pooling layer and a dense output layer\n",
        "x = tf.keras.layers.GlobalAveragePooling2D()(base_model.output)\n",
        "x = tf.keras.layers.Dense(1024, activation='relu')(x)\n",
        "x = tf.keras.layers.Dense(512, activation='relu')(x)\n",
        "x = tf.keras.layers.Dense(100, activation='softmax')(x)"
      ],
      "metadata": {
        "id": "KB3HazbHX9Vu"
      },
      "execution_count": 7,
      "outputs": []
    },
    {
      "cell_type": "code",
      "source": [
        "# Define the model\n",
        "model = tf.keras.models.Model(inputs=base_model.input, outputs=x)"
      ],
      "metadata": {
        "id": "_O3GgGCiYIA4"
      },
      "execution_count": 8,
      "outputs": []
    },
    {
      "cell_type": "code",
      "source": [
        "#ine-tune the top layers\n",
        "for layer in model.layers[-3:]:\n",
        "    layer.trainable = True"
      ],
      "metadata": {
        "id": "5oXffYweYIDb"
      },
      "execution_count": 10,
      "outputs": []
    },
    {
      "cell_type": "code",
      "source": [],
      "metadata": {
        "id": "2Ta2X-n7YIG-"
      },
      "execution_count": null,
      "outputs": []
    },
    {
      "cell_type": "code",
      "source": [
        "from keras.backend import dropout\n",
        "learning_rates = [0.001, 0.0001, 0.1]\n",
        "batch_sizes = [32, 64, 128]\n",
        "num_epochs = 7\n",
        "#dropout= [0.3]\n",
        "for lr in learning_rates:\n",
        "    for batch_size in batch_sizes:\n",
        "          model.compile(optimizer=tf.keras.optimizers.Adam(learning_rate=lr),\n",
        "                          loss='sparse_categorical_crossentropy',\n",
        "                          metrics=['accuracy'])\n",
        "          model.fit(x_train, y_train, epochs=num_epochs, batch_size=batch_size, validation_data=(x_test, y_test))\n",
        "          # Evaluate the model on the test data\n",
        "          y_pred = model.predict(x_test)\n",
        "          y_pred_classes = np.argmax(y_pred, axis=1)\n",
        "          accuracy = accuracy_score(y_test, y_pred_classes)\n",
        "          print(f'Learning rate: {lr}, Batch size: {batch_size} Accuracy: {accuracy}')\n",
        "\n",
        "\n"
      ],
      "metadata": {
        "colab": {
          "base_uri": "https://localhost:8080/"
        },
        "id": "g135tMeYJAvl",
        "outputId": "e74a39cc-8800-410c-d318-c11b7eec0673"
      },
      "execution_count": 11,
      "outputs": [
        {
          "output_type": "stream",
          "name": "stdout",
          "text": [
            "Epoch 1/7\n",
            "1563/1563 [==============================] - 63s 34ms/step - loss: 3.9684 - accuracy: 0.1009 - val_loss: 3.9896 - val_accuracy: 0.1006\n",
            "Epoch 2/7\n",
            "1563/1563 [==============================] - 51s 32ms/step - loss: 3.9440 - accuracy: 0.1040 - val_loss: 3.9796 - val_accuracy: 0.0975\n",
            "Epoch 3/7\n",
            "1563/1563 [==============================] - 48s 31ms/step - loss: 3.9226 - accuracy: 0.1080 - val_loss: 3.9697 - val_accuracy: 0.1030\n",
            "Epoch 4/7\n",
            "1563/1563 [==============================] - 49s 32ms/step - loss: 3.9074 - accuracy: 0.1109 - val_loss: 3.9509 - val_accuracy: 0.1065\n",
            "Epoch 5/7\n",
            "1563/1563 [==============================] - 51s 33ms/step - loss: 3.8923 - accuracy: 0.1139 - val_loss: 3.9459 - val_accuracy: 0.1088\n",
            "Epoch 6/7\n",
            "1563/1563 [==============================] - 50s 32ms/step - loss: 3.8711 - accuracy: 0.1157 - val_loss: 3.9775 - val_accuracy: 0.1025\n",
            "Epoch 7/7\n",
            "1563/1563 [==============================] - 49s 31ms/step - loss: 3.8560 - accuracy: 0.1184 - val_loss: 3.9823 - val_accuracy: 0.1050\n",
            "313/313 [==============================] - 11s 24ms/step\n",
            "Learning rate: 0.001, Batch size: 32 Accuracy: 0.105\n",
            "Epoch 1/7\n",
            "782/782 [==============================] - 42s 41ms/step - loss: 3.8130 - accuracy: 0.1265 - val_loss: 3.8994 - val_accuracy: 0.1181\n",
            "Epoch 2/7\n",
            "782/782 [==============================] - 29s 37ms/step - loss: 3.7980 - accuracy: 0.1286 - val_loss: 3.9129 - val_accuracy: 0.1178\n",
            "Epoch 3/7\n",
            "782/782 [==============================] - 29s 37ms/step - loss: 3.7875 - accuracy: 0.1289 - val_loss: 3.9196 - val_accuracy: 0.1114\n",
            "Epoch 4/7\n",
            "782/782 [==============================] - 28s 35ms/step - loss: 3.7756 - accuracy: 0.1314 - val_loss: 3.8807 - val_accuracy: 0.1232\n",
            "Epoch 5/7\n",
            "782/782 [==============================] - 29s 37ms/step - loss: 3.7631 - accuracy: 0.1362 - val_loss: 3.8813 - val_accuracy: 0.1224\n",
            "Epoch 6/7\n",
            "782/782 [==============================] - 29s 36ms/step - loss: 3.7556 - accuracy: 0.1362 - val_loss: 3.8894 - val_accuracy: 0.1210\n",
            "Epoch 7/7\n",
            "782/782 [==============================] - 29s 36ms/step - loss: 3.7449 - accuracy: 0.1388 - val_loss: 3.8904 - val_accuracy: 0.1217\n",
            "313/313 [==============================] - 10s 25ms/step\n",
            "Learning rate: 0.001, Batch size: 64 Accuracy: 0.1217\n",
            "Epoch 1/7\n",
            "391/391 [==============================] - 32s 56ms/step - loss: 3.7137 - accuracy: 0.1425 - val_loss: 3.8691 - val_accuracy: 0.1240\n",
            "Epoch 2/7\n",
            "391/391 [==============================] - 18s 46ms/step - loss: 3.7026 - accuracy: 0.1433 - val_loss: 3.8672 - val_accuracy: 0.1261\n",
            "Epoch 3/7\n",
            "391/391 [==============================] - 18s 46ms/step - loss: 3.6977 - accuracy: 0.1441 - val_loss: 3.8763 - val_accuracy: 0.1234\n",
            "Epoch 4/7\n",
            "391/391 [==============================] - 20s 52ms/step - loss: 3.6924 - accuracy: 0.1472 - val_loss: 3.8632 - val_accuracy: 0.1282\n",
            "Epoch 5/7\n",
            "391/391 [==============================] - 18s 46ms/step - loss: 3.6809 - accuracy: 0.1468 - val_loss: 3.8555 - val_accuracy: 0.1309\n",
            "Epoch 6/7\n",
            "391/391 [==============================] - 20s 52ms/step - loss: 3.6727 - accuracy: 0.1492 - val_loss: 3.8732 - val_accuracy: 0.1289\n",
            "Epoch 7/7\n",
            "391/391 [==============================] - 21s 53ms/step - loss: 3.6683 - accuracy: 0.1491 - val_loss: 3.8534 - val_accuracy: 0.1301\n",
            "313/313 [==============================] - 10s 23ms/step\n",
            "Learning rate: 0.001, Batch size: 128 Accuracy: 0.1301\n",
            "Epoch 1/7\n",
            "1563/1563 [==============================] - 66s 37ms/step - loss: 3.6235 - accuracy: 0.1570 - val_loss: 3.8384 - val_accuracy: 0.1362\n",
            "Epoch 2/7\n",
            "1563/1563 [==============================] - 51s 33ms/step - loss: 3.6173 - accuracy: 0.1591 - val_loss: 3.8384 - val_accuracy: 0.1356\n",
            "Epoch 3/7\n",
            "1563/1563 [==============================] - 55s 35ms/step - loss: 3.6152 - accuracy: 0.1576 - val_loss: 3.8369 - val_accuracy: 0.1354\n",
            "Epoch 4/7\n",
            "1563/1563 [==============================] - 51s 33ms/step - loss: 3.6142 - accuracy: 0.1588 - val_loss: 3.8405 - val_accuracy: 0.1352\n",
            "Epoch 5/7\n",
            "1563/1563 [==============================] - 51s 33ms/step - loss: 3.6115 - accuracy: 0.1589 - val_loss: 3.8424 - val_accuracy: 0.1341\n",
            "Epoch 6/7\n",
            "1563/1563 [==============================] - 54s 35ms/step - loss: 3.6101 - accuracy: 0.1599 - val_loss: 3.8369 - val_accuracy: 0.1342\n",
            "Epoch 7/7\n",
            "1563/1563 [==============================] - 55s 35ms/step - loss: 3.6080 - accuracy: 0.1602 - val_loss: 3.8417 - val_accuracy: 0.1340\n",
            "313/313 [==============================] - 10s 24ms/step\n",
            "Learning rate: 0.0001, Batch size: 32 Accuracy: 0.134\n",
            "Epoch 1/7\n",
            "782/782 [==============================] - 42s 40ms/step - loss: 3.6034 - accuracy: 0.1615 - val_loss: 3.8383 - val_accuracy: 0.1352\n",
            "Epoch 2/7\n",
            "782/782 [==============================] - 29s 37ms/step - loss: 3.6016 - accuracy: 0.1614 - val_loss: 3.8377 - val_accuracy: 0.1367\n",
            "Epoch 3/7\n",
            "782/782 [==============================] - 28s 35ms/step - loss: 3.6006 - accuracy: 0.1608 - val_loss: 3.8391 - val_accuracy: 0.1352\n",
            "Epoch 4/7\n",
            "782/782 [==============================] - 29s 37ms/step - loss: 3.5992 - accuracy: 0.1617 - val_loss: 3.8405 - val_accuracy: 0.1337\n",
            "Epoch 5/7\n",
            "782/782 [==============================] - 29s 37ms/step - loss: 3.5985 - accuracy: 0.1608 - val_loss: 3.8404 - val_accuracy: 0.1341\n",
            "Epoch 6/7\n",
            "782/782 [==============================] - 28s 35ms/step - loss: 3.5972 - accuracy: 0.1614 - val_loss: 3.8378 - val_accuracy: 0.1352\n",
            "Epoch 7/7\n",
            "782/782 [==============================] - 27s 35ms/step - loss: 3.5962 - accuracy: 0.1625 - val_loss: 3.8379 - val_accuracy: 0.1331\n",
            "313/313 [==============================] - 10s 22ms/step\n",
            "Learning rate: 0.0001, Batch size: 64 Accuracy: 0.1331\n",
            "Epoch 1/7\n",
            "391/391 [==============================] - 30s 54ms/step - loss: 3.5924 - accuracy: 0.1627 - val_loss: 3.8377 - val_accuracy: 0.1352\n",
            "Epoch 2/7\n",
            "391/391 [==============================] - 20s 51ms/step - loss: 3.5908 - accuracy: 0.1625 - val_loss: 3.8372 - val_accuracy: 0.1363\n",
            "Epoch 3/7\n",
            "391/391 [==============================] - 17s 45ms/step - loss: 3.5901 - accuracy: 0.1632 - val_loss: 3.8365 - val_accuracy: 0.1372\n",
            "Epoch 4/7\n",
            "391/391 [==============================] - 20s 51ms/step - loss: 3.5901 - accuracy: 0.1630 - val_loss: 3.8390 - val_accuracy: 0.1370\n",
            "Epoch 5/7\n",
            "391/391 [==============================] - 18s 45ms/step - loss: 3.5888 - accuracy: 0.1633 - val_loss: 3.8356 - val_accuracy: 0.1369\n",
            "Epoch 6/7\n",
            "391/391 [==============================] - 18s 45ms/step - loss: 3.5879 - accuracy: 0.1639 - val_loss: 3.8358 - val_accuracy: 0.1358\n",
            "Epoch 7/7\n",
            "391/391 [==============================] - 17s 45ms/step - loss: 3.5871 - accuracy: 0.1640 - val_loss: 3.8354 - val_accuracy: 0.1356\n",
            "313/313 [==============================] - 10s 23ms/step\n",
            "Learning rate: 0.0001, Batch size: 128 Accuracy: 0.1356\n",
            "Epoch 1/7\n",
            "1563/1563 [==============================] - 66s 35ms/step - loss: 4.9689 - accuracy: 0.0099 - val_loss: 4.6463 - val_accuracy: 0.0100\n",
            "Epoch 2/7\n",
            "1563/1563 [==============================] - 54s 35ms/step - loss: 4.6503 - accuracy: 0.0094 - val_loss: 4.6399 - val_accuracy: 0.0100\n",
            "Epoch 3/7\n",
            "1563/1563 [==============================] - 54s 35ms/step - loss: 4.6504 - accuracy: 0.0103 - val_loss: 4.6545 - val_accuracy: 0.0100\n",
            "Epoch 4/7\n",
            "1563/1563 [==============================] - 53s 34ms/step - loss: 4.6487 - accuracy: 0.0107 - val_loss: 4.6436 - val_accuracy: 0.0100\n",
            "Epoch 5/7\n",
            "1563/1563 [==============================] - 56s 36ms/step - loss: 4.6493 - accuracy: 0.0096 - val_loss: 4.6412 - val_accuracy: 0.0100\n",
            "Epoch 6/7\n",
            "1563/1563 [==============================] - 54s 34ms/step - loss: 4.6503 - accuracy: 0.0095 - val_loss: 4.6482 - val_accuracy: 0.0100\n",
            "Epoch 7/7\n",
            "1563/1563 [==============================] - 56s 36ms/step - loss: 4.6484 - accuracy: 0.0101 - val_loss: 4.6560 - val_accuracy: 0.0100\n",
            "313/313 [==============================] - 10s 25ms/step\n",
            "Learning rate: 0.1, Batch size: 32 Accuracy: 0.01\n",
            "Epoch 1/7\n",
            "782/782 [==============================] - 42s 42ms/step - loss: 4.6377 - accuracy: 0.0090 - val_loss: 4.6299 - val_accuracy: 0.0100\n",
            "Epoch 2/7\n",
            "782/782 [==============================] - 29s 37ms/step - loss: 4.6369 - accuracy: 0.0095 - val_loss: 4.6333 - val_accuracy: 0.0100\n",
            "Epoch 3/7\n",
            "782/782 [==============================] - 29s 38ms/step - loss: 4.6365 - accuracy: 0.0097 - val_loss: 4.6376 - val_accuracy: 0.0100\n",
            "Epoch 4/7\n",
            "782/782 [==============================] - 30s 39ms/step - loss: 4.6368 - accuracy: 0.0096 - val_loss: 4.6363 - val_accuracy: 0.0100\n",
            "Epoch 5/7\n",
            "782/782 [==============================] - 30s 38ms/step - loss: 4.6375 - accuracy: 0.0103 - val_loss: 4.6362 - val_accuracy: 0.0100\n",
            "Epoch 6/7\n",
            "782/782 [==============================] - 30s 38ms/step - loss: 4.6371 - accuracy: 0.0090 - val_loss: 4.6365 - val_accuracy: 0.0100\n",
            "Epoch 7/7\n",
            "782/782 [==============================] - 31s 40ms/step - loss: 4.6367 - accuracy: 0.0096 - val_loss: 4.6409 - val_accuracy: 0.0100\n",
            "313/313 [==============================] - 10s 24ms/step\n",
            "Learning rate: 0.1, Batch size: 64 Accuracy: 0.01\n",
            "Epoch 1/7\n",
            "391/391 [==============================] - 34s 61ms/step - loss: 4.6294 - accuracy: 0.0096 - val_loss: 4.6255 - val_accuracy: 0.0100\n",
            "Epoch 2/7\n",
            "391/391 [==============================] - 21s 54ms/step - loss: 4.6289 - accuracy: 0.0100 - val_loss: 4.6287 - val_accuracy: 0.0100\n",
            "Epoch 3/7\n",
            "391/391 [==============================] - 19s 47ms/step - loss: 4.6275 - accuracy: 0.0098 - val_loss: 4.6241 - val_accuracy: 0.0100\n",
            "Epoch 4/7\n",
            "391/391 [==============================] - 21s 53ms/step - loss: 4.6272 - accuracy: 0.0100 - val_loss: 4.6219 - val_accuracy: 0.0100\n",
            "Epoch 5/7\n",
            "391/391 [==============================] - 21s 54ms/step - loss: 4.6273 - accuracy: 0.0101 - val_loss: 4.6266 - val_accuracy: 0.0100\n",
            "Epoch 6/7\n",
            "391/391 [==============================] - 19s 47ms/step - loss: 4.6273 - accuracy: 0.0102 - val_loss: 4.6298 - val_accuracy: 0.0100\n",
            "Epoch 7/7\n",
            "391/391 [==============================] - 21s 53ms/step - loss: 4.6279 - accuracy: 0.0093 - val_loss: 4.6284 - val_accuracy: 0.0100\n",
            "313/313 [==============================] - 10s 25ms/step\n",
            "Learning rate: 0.1, Batch size: 128 Accuracy: 0.01\n"
          ]
        }
      ]
    },
    {
      "cell_type": "code",
      "source": [],
      "metadata": {
        "id": "wn6Jq5izYJ-0"
      },
      "execution_count": null,
      "outputs": []
    },
    {
      "cell_type": "code",
      "source": [],
      "metadata": {
        "id": "rkcJpDNqYKEb"
      },
      "execution_count": null,
      "outputs": []
    },
    {
      "cell_type": "code",
      "source": [],
      "metadata": {
        "id": "BPY-_siqYKOi"
      },
      "execution_count": null,
      "outputs": []
    }
  ]
}